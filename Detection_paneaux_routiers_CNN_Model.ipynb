{
 "cells": [
  {
   "cell_type": "code",
   "execution_count": null,
   "metadata": {
    "_cell_guid": "b1076dfc-b9ad-4769-8c92-a6c4dae69d19",
    "_uuid": "8f2839f25d086af736a60e9eeb907d3b93b6e0e5"
   },
   "outputs": [],
   "source": [
    "# Libraries \n",
    "import numpy as np \n",
    "import pandas as pd \n",
    "import matplotlib.pyplot as plt\n",
    "import tensorflow as tf\n",
    "import cv2\n",
    "from PIL import Image\n",
    "import os\n"
   ]
  },
  {
   "cell_type": "markdown",
   "metadata": {},
   "source": [
    "# changer les noms des fichiers \"image\" pour pouvoir les lire\n"
   ]
  },
  {
   "cell_type": "code",
   "execution_count": null,
   "metadata": {},
   "outputs": [],
   "source": [
    "import os\n",
    "classes = 43\n",
    "for i in range(classes) :\n",
    "    path = \"data/train/{0}/\".format(i)\n",
    "    print(path)\n",
    "    Class=os.listdir(path)\n",
    "    j=0\n",
    "    for a in Class:\n",
    "        if(a[0] != \"0\"):            \n",
    "            filepath = path+str(i)+str(j)+\".\"+a[-3:]\n",
    "            os.rename(path+'\\\\'+a,path+str(i)+str(j)+\".\"+a[-3:])\n",
    "            j=j+1\n"
   ]
  },
  {
   "cell_type": "markdown",
   "metadata": {},
   "source": [
    "# Lire les données"
   ]
  },
  {
   "cell_type": "code",
   "execution_count": null,
   "metadata": {
    "_cell_guid": "79c7e3d0-c299-4dcb-8224-4455121ee9b0",
    "_uuid": "d629ff2d2480ee46fbb7e2d37f6b5fab8052498a"
   },
   "outputs": [],
   "source": [
    "# Reading the input images and putting them into a numpy array\n",
    "data=[]\n",
    "labels=[]\n",
    "\n",
    "height = 30\n",
    "width = 30\n",
    "channels = 3\n",
    "classes = 43\n",
    "n_inputs = height * width*channels\n",
    "\n",
    "for i in range(classes) :\n",
    "    path = \"data/train/{0}/\".format(i)\n",
    "    print(path)\n",
    "    Class=os.listdir(path)\n",
    "    for a in Class:\n",
    "        try:\n",
    "            image=cv2.imread(path+'\\\\'+a)\n",
    "            # print(a)\n",
    "            image_from_array = Image.fromarray(image, 'RGB')\n",
    "            size_image = image_from_array.resize((height, width))\n",
    "            data.append(np.array(size_image))\n",
    "            labels.append(i)\n",
    "        except AttributeError:\n",
    "            print(\" \")\n",
    "            \n",
    "Cells=np.array(data)\n",
    "labels=np.array(labels)\n",
    "\n",
    "#Randomize the order of the input images\n",
    "s=np.arange(Cells.shape[0])\n",
    "np.random.seed(43)\n",
    "np.random.shuffle(s)\n",
    "Cells=Cells[s]\n",
    "labels=labels[s]"
   ]
  },
  {
   "cell_type": "code",
   "execution_count": null,
   "metadata": {},
   "outputs": [],
   "source": [
    "#Spliting the images into train and validation sets\n",
    "X_train=Cells\n",
    "X_train = X_train.astype('float32')/255 \n",
    "y_train=labels\n",
    "\n",
    "#Using one hote encoding for the train and validation labels\n",
    "from tensorflow.keras.utils import to_categorical\n",
    "y_train = to_categorical(y_train, 43)"
   ]
  },
  {
   "cell_type": "code",
   "execution_count": null,
   "metadata": {},
   "outputs": [],
   "source": [
    "y_train[23][5]"
   ]
  },
  {
   "cell_type": "code",
   "execution_count": null,
   "metadata": {},
   "outputs": [],
   "source": [
    "#Definition of the DNN model\n",
    "\n",
    "from tensorflow.keras.models import Sequential\n",
    "from tensorflow.keras.layers import Conv2D, MaxPool2D, Dense, Flatten, Dropout\n",
    "\n",
    "model = Sequential()\n",
    "model.add(Conv2D(filters=32, kernel_size=(5,5), activation='relu', input_shape=X_train.shape[1:]))\n",
    "model.add(Conv2D(filters=64, kernel_size=(3, 3), activation='relu'))\n",
    "model.add(MaxPool2D(pool_size=(2, 2)))\n",
    "model.add(Dropout(rate=0.25))\n",
    "\n",
    "model.add(Conv2D(filters=64, kernel_size=(3, 3), activation='relu'))\n",
    "model.add(MaxPool2D(pool_size=(2, 2)))\n",
    "model.add(Dropout(rate=0.25))\n",
    "model.add(Flatten())\n",
    "\n",
    "model.add(Dense(256, activation='relu'))\n",
    "model.add(Dropout(rate=0.5))\n",
    "model.add(Dense(43, activation='softmax'))\n",
    "\n",
    "#Compilation of the model\n",
    "model.compile(\n",
    "    loss='categorical_crossentropy', \n",
    "    optimizer='adam', \n",
    "    metrics=['accuracy']\n",
    ")"
   ]
  },
  {
   "cell_type": "code",
   "execution_count": null,
   "metadata": {},
   "outputs": [],
   "source": [
    "#using ten epochs for the training and saving the accuracy for each epoch\n",
    "epochs = 20\n",
    "history = model.fit(X_train, y_train, batch_size=32, epochs=epochs)"
   ]
  },
  {
   "cell_type": "code",
   "execution_count": null,
   "metadata": {},
   "outputs": [],
   "source": [
    "history.history.keys()"
   ]
  },
  {
   "cell_type": "code",
   "execution_count": null,
   "metadata": {},
   "outputs": [],
   "source": [
    "\n",
    "#afficher la precision du model et la convergence du model\n",
    "import matplotlib.pyplot as plt\n",
    "\n",
    "plt.figure(0)\n",
    "plt.plot(history.history['accuracy'], label='training accuracy')\n",
    "plt.plot(history.history['accuracy'], label='val accuracy')\n",
    "plt.title('Accuracy')\n",
    "plt.xlabel('epochs')\n",
    "plt.ylabel('accuracy')\n",
    "plt.legend()\n",
    "\n",
    "plt.figure(1)\n",
    "plt.plot(history.history['loss'], label='training loss')\n",
    "plt.plot(history.history['loss'], label='val loss')\n",
    "plt.title('Loss')\n",
    "plt.xlabel('epochs')\n",
    "plt.ylabel('loss')\n",
    "plt.legend()"
   ]
  },
  {
   "cell_type": "code",
   "execution_count": null,
   "metadata": {},
   "outputs": [],
   "source": [
    "\n",
    "y_test=pd.read_csv(\"data/Test.csv\")\n",
    "y_test['Path'].to_numpy()"
   ]
  },
  {
   "cell_type": "code",
   "execution_count": null,
   "metadata": {},
   "outputs": [],
   "source": [
    "#tester le model\n",
    "y_test=pd.read_csv(\"data/Test.csv\")\n",
    "labels=y_test['Path'].to_numpy()\n",
    "y_test=y_test['ClassId'].values\n",
    "\n",
    "data=[]\n",
    "\n",
    "for f in labels:\n",
    "    image=cv2.imread('data/test/'+f.replace('Test/', ''))\n",
    "    image_from_array = Image.fromarray(image, 'RGB')\n",
    "    size_image = image_from_array.resize((height, width))\n",
    "    data.append(np.array(size_image))\n",
    "\n",
    "X_test=np.array(data)\n",
    "X_test = X_test.astype('float32')/255 \n",
    "pred = model.predict(X_test)"
   ]
  },
  {
   "cell_type": "code",
   "execution_count": null,
   "metadata": {},
   "outputs": [],
   "source": [
    "# afficher la precision du model en utilisant le test\n",
    "from sklearn.metrics import accuracy_score\n",
    "p = pred.copy()\n",
    "p.shape\n",
    "p\n",
    "jdida = []\n",
    "for i in p:\n",
    "    jdida.append(np.argmax(np.array(i)))\n",
    "\n",
    "jdida\n",
    "accuracy_score(y_test, jdida)\n"
   ]
  },
  {
   "cell_type": "code",
   "execution_count": null,
   "metadata": {},
   "outputs": [],
   "source": [
    "# sauvgarder le model pour des utilisations ulterieures\n",
    "model.save('tp_imn_detection_panneau.h5')"
   ]
  },
  {
   "cell_type": "code",
   "execution_count": 2,
   "metadata": {},
   "outputs": [
    {
     "name": "stdout",
     "output_type": "stream",
     "text": [
      "<class 'numpy.ndarray'>\n",
      "(30, 30, 3)\n",
      "Tenir à droite\n"
     ]
    }
   ],
   "source": [
    "import tkinter as tk\n",
    "from tkinter import filedialog\n",
    "from tkinter import *\n",
    "from PIL import ImageTk, Image\n",
    "import cv2\n",
    "import numpy as np\n",
    "height = 30\n",
    "width = 30\n",
    "#charger le model entrainé pour la detection de panneau\n",
    "from tensorflow.keras.models import load_model\n",
    "model = load_model('tp_imn_detection_panneau.h5')\n",
    "#dictionnaire pour étiqueter toutes les classes de panneaux de signalisation.\n",
    "classes = { 1:'Limite de vitesse (20km/h)',\n",
    "           2:'Limite de vitesse (30km/h)',\n",
    "           3:'Limitation de vitesse (50km/h)',\n",
    "           4:'Limite de vitesse (60km/h)',\n",
    "           5:'Limite de vitesse (70km/h)',\n",
    "           6:'Limite de vitesse (80km/h)',\n",
    "           7:'Fin limitation de vitesse (80km/h)',\n",
    "           8:'Limite de vitesse (100km/h)',\n",
    "           9:'Limite de vitesse (120km/h)',\n",
    "           10:'Pas de dépassement',\n",
    "           11:'Interdiction de dépasser les véhicules de plus de 3,5 tonnes',\n",
    "           12:'Droit de passage à l\\'intersection',\n",
    "           13:'Route prioritaire',\n",
    "           14:'Cédez le passage',\n",
    "           15:'Stop',\n",
    "           16:'Pas de véhicules',\n",
    "           17:'Véh > 3,5 tonnes interdits',\n",
    "           18:'Pas d\\'entrée',\n",
    "           19:'Précaution générale',\n",
    "           20:'Courbe dangereuse à gauche',\n",
    "           21:'Courbe dangereuse à droite',\n",
    "           22:'Double courbe',\n",
    "           23:'Route cahoteuse',\n",
    "           24:'Route glissante',\n",
    "           25:'La route se rétrécit à droite',\n",
    "           26:'Travaux routiers',\n",
    "           27:'Signaux de circulation',\n",
    "           28:'Piétons',\n",
    "           29:'Enfants traversant',\n",
    "           30:'Passage à vélo',\n",
    "           31:'Attention à la glace/neige',\n",
    "           32:'Animaux sauvages traversant',\n",
    "           33:'Vitesse finale + limites de dépassement',\n",
    "           34:'Tourne à droite',\n",
    "           35:'Tourner à gauche devant',\n",
    "           36: 'En avant seulement',\n",
    "           37:'Aller tout droit ou à droite',\n",
    "           38:'Aller tout droit ou à gauche',\n",
    "           39:'Tenir à droite',\n",
    "           40:'Tenir à gauche',\n",
    "           41:' Rond-point obligatoire',\n",
    "           42:'Fin du non-passage',\n",
    "           43:'Aucun passage de véhicule d\\'un poids supérieur à 3,5tonnes' }\n",
    "\n",
    "# interface graphique\n",
    "top=tk.Tk()\n",
    "top.geometry('800x600')\n",
    "top.title('Traffic sign classification')\n",
    "top.configure(background='#CDCDCD')\n",
    "label=Label(top,background='#CDCDCD', font=('arial',15,'bold'))\n",
    "sign_image = Label(top)\n",
    "def classify(file_path):\n",
    "   global label_packed\n",
    "   image=cv2.imread(file_path)\n",
    "   print(type(image))\n",
    "   image_from_array = Image.fromarray(image, 'RGB')\n",
    "   size_image = image_from_array.resize((height, width))\n",
    "   exe = []\n",
    "   exe.append(np.array(size_image))\n",
    "   X_test1=np.array(exe)\n",
    "   X_test1 = X_test1.astype('float32')/255 \n",
    "   pred = model.predict(X_test1)\n",
    "   print(X_test1.shape[1:])\n",
    "   pred = np.argmax(pred,axis=1)   \n",
    "   \n",
    "   #####################################   \n",
    "   \n",
    "   sign = classes[pred[0]+1]\n",
    "   print(sign)\n",
    "   label.configure(foreground='red', text=sign)\n",
    "def show_classify_button(file_path):\n",
    "   classify_b=Button(top,text=\"Classer le panneau\",command=lambda: classify(file_path),padx=10,pady=5)\n",
    "   classify_b.configure(background='#364156', foreground='white',font=('arial',10,'bold'))\n",
    "   classify_b.place(relx=0.79,rely=0.46)\n",
    "def upload_image():\n",
    "    try:\n",
    "        file_path=filedialog.askopenfilename()\n",
    "        uploaded=Image.open(file_path)\n",
    "        uploaded.thumbnail(((top.winfo_width()/2.25),(top.winfo_height()/2.25)))\n",
    "        im=ImageTk.PhotoImage(uploaded)\n",
    "        sign_image.configure(image=im)\n",
    "        sign_image.image=im\n",
    "        label.configure(text='')\n",
    "        show_classify_button(file_path)\n",
    "    except:\n",
    "        pass\n",
    "upload=Button(top,text=\"Télécharger une image\",command=upload_image,padx=10,pady=5)\n",
    "upload.configure(background='#364156', foreground='white',font=('arial',10,'bold'))\n",
    "upload.pack(side=BOTTOM,pady=50)\n",
    "sign_image.pack(side=BOTTOM,expand=True)\n",
    "label.pack(side=BOTTOM,expand=True)\n",
    "heading = Label(top, text=\"Vérifier le panneau de signalisation\",pady=20, font=('arial',20,'bold'))\n",
    "heading.configure(background='#CDCDCD',foreground='#364156')\n",
    "heading.pack()\n",
    "top.mainloop()"
   ]
  },
  {
   "cell_type": "code",
   "execution_count": null,
   "metadata": {},
   "outputs": [],
   "source": []
  }
 ],
 "metadata": {
  "interpreter": {
   "hash": "a71a9e4fb054fff428071484f7faa898cb9ecb31a518fe88e3463da9af879578"
  },
  "kernelspec": {
   "display_name": "Python 3",
   "language": "python",
   "name": "python3"
  },
  "language_info": {
   "codemirror_mode": {
    "name": "ipython",
    "version": 3
   },
   "file_extension": ".py",
   "mimetype": "text/x-python",
   "name": "python",
   "nbconvert_exporter": "python",
   "pygments_lexer": "ipython3",
   "version": "3.8.8"
  }
 },
 "nbformat": 4,
 "nbformat_minor": 1
}
